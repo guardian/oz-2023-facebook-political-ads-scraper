{
 "cells": [
  {
   "cell_type": "code",
   "execution_count": null,
   "metadata": {},
   "outputs": [],
   "source": [
    "# loading in modules\n",
    "import sqlite3\n",
    "import sys\n",
    "# from peewee import *\n",
    "import pandas as pd \n",
    "from sudulunu.helpers import pp, make_num, dumper, rc\n",
    "\n",
    "from transformers import pipeline\n",
    "\n",
    "## Zero shot classifer\n",
    "classifier = pipeline(\"zero-shot-classification\",\n",
    "                      model=\"facebook/bart-large-mnli\")\n",
    "# https://huggingface.co/facebook/bart-large-mnli\n",
    "\n",
    "## Text classification/clustering\n",
    "# https://huggingface.co/docs/transformers/tasks/sequence_classification\n",
    "\n",
    "import os \n",
    "import pathlib\n",
    "pathos = pathlib.Path(os.path.abspath('zero_shot.ipynb')).parent\n",
    "os.chdir(pathos)\n",
    "print(os.getcwd())\n"
   ]
  },
  {
   "cell_type": "code",
   "execution_count": null,
   "metadata": {},
   "outputs": [],
   "source": [
    "\n",
    "db = 'input/scraperwiki.sqlite'\n",
    "con = sqlite3.connect(db)\n",
    "\n",
    "cur = con.cursor()\n",
    "\n",
    "# table_list = [a for a in cur.execute(\"SELECT name FROM sqlite_master WHERE type = 'table'\")]\n",
    "# print(table_list)\n",
    "# [('ads_by_id',), ('ads_by_query',)]\n",
    "\n",
    "entries = [x for x in cur.execute('SELECT * FROM ads_by_query')]\n",
    "# entries = [x for x in cur.execute('SELECT * FROM ads_by_id')]\n",
    "\n",
    "# advertisers = []\n",
    "# for thingo in entries:\n",
    "#     advertisers.append(thingo[2])\n",
    "# print(list(set(advertisers)))\n",
    "\n",
    "# ['From the Heart', 'Fair Australia', 'The Uluru Statement from the Heart', 'Senator Jacinta Nampijinpa Price', \n",
    "# 'Not My Voice', 'Referendum News', 'Linda Burney', 'Not Enough', 'Yes23']\n",
    "\n",
    "con.close()"
   ]
  },
  {
   "cell_type": "code",
   "execution_count": 1,
   "metadata": {},
   "outputs": [
    {
     "ename": "NameError",
     "evalue": "name 'entries' is not defined",
     "output_type": "error",
     "traceback": [
      "\u001b[0;31m---------------------------------------------------------------------------\u001b[0m",
      "\u001b[0;31mNameError\u001b[0m                                 Traceback (most recent call last)",
      "Cell \u001b[0;32mIn[1], line 7\u001b[0m\n\u001b[1;32m      3\u001b[0m candidate_labels \u001b[39m=\u001b[39m [\u001b[39m'\u001b[39m\u001b[39mIn favour of the Voice to Parliament\u001b[39m\u001b[39m'\u001b[39m, \u001b[39m'\u001b[39m\u001b[39mAgainst the Voice to Parliament\u001b[39m\u001b[39m'\u001b[39m]\n\u001b[1;32m      6\u001b[0m counter \u001b[39m=\u001b[39m \u001b[39m0\u001b[39m\n\u001b[0;32m----> 7\u001b[0m \u001b[39mfor\u001b[39;00m thingo \u001b[39min\u001b[39;00m entries:\n\u001b[1;32m      8\u001b[0m     counter \u001b[39m+\u001b[39m\u001b[39m=\u001b[39m \u001b[39m1\u001b[39m\n\u001b[1;32m      9\u001b[0m     \u001b[39mif\u001b[39;00m counter \u001b[39m%\u001b[39m \u001b[39m50\u001b[39m \u001b[39m==\u001b[39m\u001b[39m0\u001b[39m:\n",
      "\u001b[0;31mNameError\u001b[0m: name 'entries' is not defined"
     ]
    }
   ],
   "source": [
    "records = []\n",
    "\n",
    "candidate_labels = ['In favour of the Voice to Parliament', 'Against the Voice to Parliament']\n",
    "\n",
    "\n",
    "counter = 0\n",
    "for thingo in entries:\n",
    "    counter += 1\n",
    "    if counter % 50 ==0:\n",
    "        \n",
    "        print(counter)\n",
    "    old = pd.read_csv('inter/zero_shot.csv')\n",
    "    donners = old['Ad_id'].unique().tolist()\n",
    "    ad_id = thingo[0]\n",
    "\n",
    "    if ad_id in donners:\n",
    "        continue\n",
    "    else:\n",
    "\n",
    "        try:\n",
    "\n",
    "            advertiser_id = thingo[1]\n",
    "            name = thingo[2]\n",
    "            texto = thingo[4]\n",
    "            classy = classifier(texto, candidate_labels)\n",
    "            \n",
    "            # print(ad_id)\n",
    "            # print(classy['labels'][0])\n",
    "            # print(texto)\n",
    "            # print(classy['scores'])\n",
    "            records.append({\"Ad_id\": ad_id, \"Advertiser\": advertiser_id, \"Classification\": classy['labels'][0], \"Text\": texto})\n",
    "\n",
    "            cat = pd.DataFrame.from_records(records)\n",
    "            new = pd.concat([old, cat])\n",
    "            new.drop_duplicates(subset=['Ad_id'], inplace=True)\n",
    "\n",
    "            dumper('inter', 'zero_shot', new)\n",
    "\n",
    "        except Exception as e:\n",
    "\n",
    "            print(f\"Exception is {e}\")\n",
    "            print(f\"Line: {sys.exc_info()[-1].tb_lineno}\")\n",
    "            pp(cat)\n",
    "\n",
    "pp(cat)\n"
   ]
  },
  {
   "cell_type": "code",
   "execution_count": null,
   "metadata": {},
   "outputs": [],
   "source": [
    "zero = pd.read_csv('inter/zero_shot_yes_no.csv')\n",
    "\n",
    "zero['Count'] = 1\n",
    "\n",
    "grp = zero.groupby(by=['Classification'])['Count'].sum().reset_index()\n",
    "\n",
    "print(grp)"
   ]
  }
 ],
 "metadata": {
  "kernelspec": {
   "display_name": "Python 3",
   "language": "python",
   "name": "python3"
  },
  "language_info": {
   "codemirror_mode": {
    "name": "ipython",
    "version": 3
   },
   "file_extension": ".py",
   "mimetype": "text/x-python",
   "name": "python",
   "nbconvert_exporter": "python",
   "pygments_lexer": "ipython3",
   "version": "3.11.4"
  },
  "orig_nbformat": 4
 },
 "nbformat": 4,
 "nbformat_minor": 2
}
