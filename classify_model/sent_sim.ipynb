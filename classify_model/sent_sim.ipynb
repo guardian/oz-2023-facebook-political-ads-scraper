{
 "cells": [
  {
   "cell_type": "code",
   "execution_count": 9,
   "metadata": {},
   "outputs": [
    {
     "name": "stdout",
     "output_type": "stream",
     "text": [
      "/Users/josh_nicholas/Repos/oz-2023-facebook-political-ads-scraper/classify_model\n"
     ]
    }
   ],
   "source": [
    "# loading in modules\n",
    "import sqlite3\n",
    "# from peewee import *\n",
    "\n",
    "# model:\n",
    "# https://huggingface.co/sentence-transformers/all-mpnet-base-v2\n",
    "\n",
    "from sentence_transformers import SentenceTransformer\n",
    "model = SentenceTransformer('sentence-transformers/all-mpnet-base-v2')\n",
    "\n",
    "### Another potential model:\n",
    "# https://huggingface.co/facebook/bart-large-mnli\n",
    "\n",
    "import os \n",
    "import pathlib\n",
    "pathos = pathlib.Path(os.path.abspath('sent_sim.ipynb')).parent\n",
    "os.chdir(pathos)\n",
    "print(os.getcwd())\n"
   ]
  },
  {
   "cell_type": "code",
   "execution_count": 10,
   "metadata": {},
   "outputs": [],
   "source": [
    "\n",
    "db = 'input/scraperwiki.sqlite'\n",
    "con = sqlite3.connect(db)\n",
    "\n",
    "cur = con.cursor()\n",
    "\n",
    "# table_list = [a for a in cur.execute(\"SELECT name FROM sqlite_master WHERE type = 'table'\")]\n",
    "# print(table_list)\n",
    "# [('ads_by_id',), ('ads_by_query',)]\n",
    "\n",
    "# key_list = [x for x in cur.execute('SELECT * FROM ads_by_query')]\n",
    "entries = [x for x in cur.execute('SELECT * FROM ads_by_id')]\n",
    "\n",
    "# advertisers = []\n",
    "# for thingo in entries:\n",
    "#     advertisers.append(thingo[2])\n",
    "# print(list(set(advertisers)))\n",
    "\n",
    "# ['From the Heart', 'Fair Australia', 'The Uluru Statement from the Heart', 'Senator Jacinta Nampijinpa Price', \n",
    "# 'Not My Voice', 'Referendum News', 'Linda Burney', 'Not Enough', 'Yes23']\n",
    "\n",
    "con.close()"
   ]
  },
  {
   "cell_type": "code",
   "execution_count": 12,
   "metadata": {},
   "outputs": [
    {
     "name": "stdout",
     "output_type": "stream",
     "text": [
      "[[-4.6818480e-02  7.8812405e-02 -6.7850258e-03 ...  2.2372952e-02\n",
      "   6.3547166e-05  7.9965569e-02]\n",
      " [-6.0804326e-02  9.2320792e-02 -6.9246395e-04 ...  2.0192899e-02\n",
      "  -3.3671357e-02  7.1282819e-02]\n",
      " [-6.0804326e-02  9.2320792e-02 -6.9246395e-04 ...  2.0192899e-02\n",
      "  -3.3671357e-02  7.1282819e-02]]\n"
     ]
    }
   ],
   "source": [
    "records = []\n",
    "\n",
    "# for thingo in entries[:3]:\n",
    "\n",
    "#     ad_id = thingo[0]\n",
    "#     advertiser_id = thingo[1]\n",
    "#     name = thingo[2]\n",
    "#     texto = thingo[3]\n",
    "#     embeddings = model.encode([texto])\n",
    "#     print(embeddings)\n",
    "    \n",
    "#     print(ad_id)\n",
    "#     print(embeddings)\n",
    "#     # print(texto)\n",
    "#     # print(classy['scores'])\n",
    "\n",
    "sents = entries[:3]\n",
    "sents = [x[3] for x in sents]\n",
    "\n",
    "embeddings = model.encode(sents)\n",
    "print(embeddings)\n"
   ]
  }
 ],
 "metadata": {
  "kernelspec": {
   "display_name": "Python 3",
   "language": "python",
   "name": "python3"
  },
  "language_info": {
   "codemirror_mode": {
    "name": "ipython",
    "version": 3
   },
   "file_extension": ".py",
   "mimetype": "text/x-python",
   "name": "python",
   "nbconvert_exporter": "python",
   "pygments_lexer": "ipython3",
   "version": "3.11.4"
  },
  "orig_nbformat": 4
 },
 "nbformat": 4,
 "nbformat_minor": 2
}
